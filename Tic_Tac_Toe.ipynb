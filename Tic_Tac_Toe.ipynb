{
  "nbformat": 4,
  "nbformat_minor": 0,
  "metadata": {
    "colab": {
      "name": "Untitled1.ipynb",
      "provenance": [],
      "authorship_tag": "ABX9TyMJV1xB1HbHnQrqVRGgONbx",
      "include_colab_link": true
    },
    "kernelspec": {
      "name": "python3",
      "display_name": "Python 3"
    },
    "language_info": {
      "name": "python"
    }
  },
  "cells": [
    {
      "cell_type": "markdown",
      "metadata": {
        "id": "view-in-github",
        "colab_type": "text"
      },
      "source": [
        "<a href=\"https://colab.research.google.com/github/xArcx/myScripts/blob/main/Tic_Tac_Toe.ipynb\" target=\"_parent\"><img src=\"https://colab.research.google.com/assets/colab-badge.svg\" alt=\"Open In Colab\"/></a>"
      ]
    },
    {
      "cell_type": "code",
      "metadata": {
        "id": "n8KxynYNpkWU"
      },
      "source": [
        "def player_input():\n",
        "player1 = input(\"Please pick a marker 'X' or 'O' \")\n",
        "while True:\n",
        "    if player1.upper() == 'X':\n",
        "        player2='O'\n",
        "        print(\"You've choosen \" + player1 + \". Player 2 will be \" + player2)\n",
        "        return player1.upper(),player2\n",
        "    elif player1.upper() == 'O':\n",
        "        player2='X'\n",
        "        print(\"You've choosen \" + player1 + \". Player 2 will be \" + player2)\n",
        "        return player1.upper(),player2\n",
        "    else:\n",
        "        player1 = input(\"Please pick a marker 'X' or 'O' \")"
      ],
      "execution_count": null,
      "outputs": []
    },
    {
      "cell_type": "code",
      "metadata": {
        "id": "dXb0BMZBpsGg"
      },
      "source": [
        "def display_board(board):\n",
        "    blankBoard=\"\"\"\n",
        "___________________\n",
        "|     |     |     |\n",
        "|  7  |  8  |  9  |\n",
        "|     |     |     |\n",
        "|-----------------|\n",
        "|     |     |     |\n",
        "|  4  |  5  |  6  |\n",
        "|     |     |     |\n",
        "|-----------------|\n",
        "|     |     |     |\n",
        "|  1  |  2  |  3  |\n",
        "|     |     |     |\n",
        "|-----------------|\n",
        "\"\"\"\n",
        "    for i in range(1,10):\n",
        "        if (board[i] == 'O' or board[i] == 'X'):\n",
        "            blankBoard = blankBoard.replace(str(i), board[i])\n",
        "        else:\n",
        "            blankBoard = blankBoard.replace(str(i), ' ')\n",
        "    print(blankBoard)"
      ],
      "execution_count": null,
      "outputs": []
    },
    {
      "cell_type": "code",
      "metadata": {
        "id": "W4f1jBo4psOb"
      },
      "source": [
        ""
      ],
      "execution_count": null,
      "outputs": []
    },
    {
      "cell_type": "code",
      "metadata": {
        "id": "5NkSWJpupsUt"
      },
      "source": [
        ""
      ],
      "execution_count": null,
      "outputs": []
    },
    {
      "cell_type": "code",
      "metadata": {
        "id": "lc3sO1f4psZJ"
      },
      "source": [
        ""
      ],
      "execution_count": null,
      "outputs": []
    },
    {
      "cell_type": "code",
      "metadata": {
        "id": "JGcMF2VTpsdS"
      },
      "source": [
        ""
      ],
      "execution_count": null,
      "outputs": []
    },
    {
      "cell_type": "code",
      "metadata": {
        "id": "oPPxXfD-pp2i"
      },
      "source": [
        "if __name__ == \"__main__\":\n",
        "    print('Welcome to Tic Tac Toe!')\n",
        "    i = 1\n",
        "    # Choose your side\n",
        "    players=player_input()\n",
        "    # Empty board init\n",
        "    board = ['#'] * 10\n",
        "    while True:\n",
        "        # Set the game up here\n",
        "        game_on=full_board_check(board)\n",
        "        while not game_on:\n",
        "            # Player to choose where to put the mark\n",
        "            position = player_choice(board)\n",
        "            # Who's playin ? Choose the marker\n",
        "            if i % 2 == 0:\n",
        "                marker = players[1]\n",
        "            else:\n",
        "                marker = players[0]\n",
        "            # Play !\n",
        "            place_marker(board, marker, int(position))\n",
        "            # Check the board\n",
        "            display_board(board)\n",
        "            i += 1\n",
        "            if win_check(board, marker):\n",
        "                print(\"You won !\")\n",
        "                break\n",
        "            game_on=full_board_check(board)\n",
        "        if not replay():\n",
        "            break\n",
        "        else:\n",
        "            i = 1\n",
        "            # Choose your side\n",
        "            players=player_input()\n",
        "            # Empty board init\n",
        "            board = ['#'] * 10"
      ],
      "execution_count": null,
      "outputs": []
    },
    {
      "cell_type": "code",
      "metadata": {
        "id": "KNRPL5-CpjCv"
      },
      "source": [
        ""
      ],
      "execution_count": null,
      "outputs": []
    }
  ]
}