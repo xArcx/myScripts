{
  "nbformat": 4,
  "nbformat_minor": 0,
  "metadata": {
    "colab": {
      "name": "Untitled1.ipynb",
      "provenance": [],
      "authorship_tag": "ABX9TyMC2IDl2InKNWiHk9pvVDla",
      "include_colab_link": true
    },
    "kernelspec": {
      "name": "python3",
      "display_name": "Python 3"
    },
    "language_info": {
      "name": "python"
    }
  },
  "cells": [
    {
      "cell_type": "markdown",
      "metadata": {
        "id": "view-in-github",
        "colab_type": "text"
      },
      "source": [
        "<a href=\"https://colab.research.google.com/github/xArcx/myScripts/blob/main/Tic_Tac_Toe.ipynb\" target=\"_parent\"><img src=\"https://colab.research.google.com/assets/colab-badge.svg\" alt=\"Open In Colab\"/></a>"
      ]
    },
    {
      "cell_type": "code",
      "metadata": {
        "id": "n8KxynYNpkWU"
      },
      "source": [
        "def player_input():\n",
        "  player1 = input(\"Please pick a marker 'X' or 'O' \")\n",
        "  while True:\n",
        "      if player1.upper() == 'X':\n",
        "          player2='O'\n",
        "          print(\"You've choosen \" + player1 + \". Player 2 will be \" + player2)\n",
        "          return player1.upper(),player2\n",
        "      elif player1.upper() == 'O':\n",
        "          player2='X'\n",
        "          print(\"You've choosen \" + player1 + \". Player 2 will be \" + player2)\n",
        "          return player1.upper(),player2\n",
        "      else:\n",
        "          player1 = input(\"Please pick a marker 'X' or 'O' \")"
      ],
      "execution_count": 3,
      "outputs": []
    },
    {
      "cell_type": "code",
      "metadata": {
        "id": "dXb0BMZBpsGg"
      },
      "source": [
        "def display_board(board):\n",
        "    blankBoard=\"\"\"\n",
        "___________________\n",
        "|     |     |     |\n",
        "|  7  |  8  |  9  |\n",
        "|     |     |     |\n",
        "|-----------------|\n",
        "|     |     |     |\n",
        "|  4  |  5  |  6  |\n",
        "|     |     |     |\n",
        "|-----------------|\n",
        "|     |     |     |\n",
        "|  1  |  2  |  3  |\n",
        "|     |     |     |\n",
        "|-----------------|\n",
        "\"\"\"\n",
        "    for i in range(1,10):\n",
        "        if (board[i] == 'O' or board[i] == 'X'):\n",
        "            blankBoard = blankBoard.replace(str(i), board[i])\n",
        "        else:\n",
        "            blankBoard = blankBoard.replace(str(i), ' ')\n",
        "    print(blankBoard)"
      ],
      "execution_count": 4,
      "outputs": []
    },
    {
      "cell_type": "code",
      "metadata": {
        "id": "W4f1jBo4psOb"
      },
      "source": [
        "def place_marker(board, marker, position):\n",
        "    board[position] = marker\n",
        "    return board"
      ],
      "execution_count": 5,
      "outputs": []
    },
    {
      "cell_type": "code",
      "metadata": {
        "id": "5NkSWJpupsUt"
      },
      "source": [
        "def space_check(board, position):\n",
        "    return board[position] == '#'\n",
        "def player_choice(board):\n",
        "    choice = input(\"Please select an empty space between 1 and 9 : \")\n",
        "    while not space_check(board, int(choice)):\n",
        "        choice = input(\"This space isn't free. Please choose between 1 and 9 : \")\n",
        "    return choice"
      ],
      "execution_count": 6,
      "outputs": []
    },
    {
      "cell_type": "code",
      "metadata": {
        "id": "lc3sO1f4psZJ"
      },
      "source": [
        "def full_board_check(board):\n",
        "    return len([x for x in board if x == '#']) == 1"
      ],
      "execution_count": 7,
      "outputs": []
    },
    {
      "cell_type": "code",
      "metadata": {
        "id": "6tA3mdFFqjFw"
      },
      "source": [
        "def win_check(board, mark):\n",
        "    if board[1] == board[2] == board[3] == mark:\n",
        "        return True\n",
        "    if board[4] == board[5] == board[6] == mark:\n",
        "        return True\n",
        "    if board[7] == board[8] == board[9] == mark:\n",
        "        return True\n",
        "    if board[1] == board[4] == board[7] == mark:\n",
        "        return True\n",
        "    if board[2] == board[5] == board[8] == mark:\n",
        "        return True\n",
        "    if board[3] == board[6] == board[9] == mark:\n",
        "        return True\n",
        "    if board[1] == board[5] == board[9] == mark:\n",
        "        return True\n",
        "    if board[3] == board[5] == board[7] == mark:\n",
        "        return True\n",
        "    return False"
      ],
      "execution_count": 8,
      "outputs": []
    },
    {
      "cell_type": "code",
      "metadata": {
        "id": "XcOzKeydqjLC"
      },
      "source": [
        "def replay():\n",
        "    playAgain = input(\"Do you want to play again (y/n) ? \")\n",
        "    if playAgain.lower() == 'y':\n",
        "        return True\n",
        "    if playAgain.lower() == 'n':\n",
        "        return False"
      ],
      "execution_count": 9,
      "outputs": []
    },
    {
      "cell_type": "code",
      "metadata": {
        "colab": {
          "base_uri": "https://localhost:8080/"
        },
        "id": "oPPxXfD-pp2i",
        "outputId": "55177fc7-822f-4b35-fe51-f9e3ac97b76f"
      },
      "source": [
        "if __name__ == \"__main__\":\n",
        "    print('Welcome Arcs to Tic Tac Toe!')\n",
        "    i = 1\n",
        "    # Choose your side\n",
        "    players=player_input()\n",
        "    # Empty board init\n",
        "    board = ['#'] * 10\n",
        "    while True:\n",
        "        # Setting the game up here\n",
        "        game_on=full_board_check(board)\n",
        "        while not game_on:\n",
        "            # Player to choose where to put the mark\n",
        "            position = player_choice(board)\n",
        "            # Who's playin ? Choose the marker\n",
        "            if i % 2 == 0:\n",
        "                marker = players[1]\n",
        "            else:\n",
        "                marker = players[0]\n",
        "            # Play !\n",
        "            place_marker(board, marker, int(position))\n",
        "            # Check the board\n",
        "            display_board(board)\n",
        "            i += 1\n",
        "            if win_check(board, marker):\n",
        "                print(\"You won !\")\n",
        "                break\n",
        "            game_on=full_board_check(board)\n",
        "        if not replay():\n",
        "            break\n",
        "        else:\n",
        "            i = 1\n",
        "            # Choose your side\n",
        "            players=player_input()\n",
        "            # Empty board init\n",
        "            board = ['#'] * 10"
      ],
      "execution_count": 10,
      "outputs": [
        {
          "output_type": "stream",
          "text": [
            "Welcome to Tic Tac Toe!\n",
            "Please pick a marker 'X' or 'O' x\n",
            "You've choosen x. Player 2 will be O\n",
            "Please select an empty space between 1 and 9 : 1\n",
            "\n",
            "___________________\n",
            "|     |     |     |\n",
            "|     |     |     |\n",
            "|     |     |     |\n",
            "|-----------------|\n",
            "|     |     |     |\n",
            "|     |     |     |\n",
            "|     |     |     |\n",
            "|-----------------|\n",
            "|     |     |     |\n",
            "|  X  |     |     |\n",
            "|     |     |     |\n",
            "|-----------------|\n",
            "\n",
            "Please select an empty space between 1 and 9 : 5\n",
            "\n",
            "___________________\n",
            "|     |     |     |\n",
            "|     |     |     |\n",
            "|     |     |     |\n",
            "|-----------------|\n",
            "|     |     |     |\n",
            "|     |  O  |     |\n",
            "|     |     |     |\n",
            "|-----------------|\n",
            "|     |     |     |\n",
            "|  X  |     |     |\n",
            "|     |     |     |\n",
            "|-----------------|\n",
            "\n",
            "Please select an empty space between 1 and 9 : 9\n",
            "\n",
            "___________________\n",
            "|     |     |     |\n",
            "|     |     |  X  |\n",
            "|     |     |     |\n",
            "|-----------------|\n",
            "|     |     |     |\n",
            "|     |  O  |     |\n",
            "|     |     |     |\n",
            "|-----------------|\n",
            "|     |     |     |\n",
            "|  X  |     |     |\n",
            "|     |     |     |\n",
            "|-----------------|\n",
            "\n",
            "Please select an empty space between 1 and 9 : 3\n",
            "\n",
            "___________________\n",
            "|     |     |     |\n",
            "|     |     |  X  |\n",
            "|     |     |     |\n",
            "|-----------------|\n",
            "|     |     |     |\n",
            "|     |  O  |     |\n",
            "|     |     |     |\n",
            "|-----------------|\n",
            "|     |     |     |\n",
            "|  X  |     |  O  |\n",
            "|     |     |     |\n",
            "|-----------------|\n",
            "\n",
            "Please select an empty space between 1 and 9 : 1\n",
            "This space isn't free. Please choose between 1 and 9 : 7\n",
            "\n",
            "___________________\n",
            "|     |     |     |\n",
            "|  X  |     |  X  |\n",
            "|     |     |     |\n",
            "|-----------------|\n",
            "|     |     |     |\n",
            "|     |  O  |     |\n",
            "|     |     |     |\n",
            "|-----------------|\n",
            "|     |     |     |\n",
            "|  X  |     |  O  |\n",
            "|     |     |     |\n",
            "|-----------------|\n",
            "\n",
            "Please select an empty space between 1 and 9 : 4\n",
            "\n",
            "___________________\n",
            "|     |     |     |\n",
            "|  X  |     |  X  |\n",
            "|     |     |     |\n",
            "|-----------------|\n",
            "|     |     |     |\n",
            "|  O  |  O  |     |\n",
            "|     |     |     |\n",
            "|-----------------|\n",
            "|     |     |     |\n",
            "|  X  |     |  O  |\n",
            "|     |     |     |\n",
            "|-----------------|\n",
            "\n",
            "Please select an empty space between 1 and 9 : 8\n",
            "\n",
            "___________________\n",
            "|     |     |     |\n",
            "|  X  |  X  |  X  |\n",
            "|     |     |     |\n",
            "|-----------------|\n",
            "|     |     |     |\n",
            "|  O  |  O  |     |\n",
            "|     |     |     |\n",
            "|-----------------|\n",
            "|     |     |     |\n",
            "|  X  |     |  O  |\n",
            "|     |     |     |\n",
            "|-----------------|\n",
            "\n",
            "You won !\n",
            "Do you want to play again (y/n) ? n\n"
          ],
          "name": "stdout"
        }
      ]
    },
    {
      "cell_type": "code",
      "metadata": {
        "id": "KNRPL5-CpjCv"
      },
      "source": [
        ""
      ],
      "execution_count": null,
      "outputs": []
    }
  ]
}